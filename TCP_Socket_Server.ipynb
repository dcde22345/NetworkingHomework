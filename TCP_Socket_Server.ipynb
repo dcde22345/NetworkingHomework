{
 "cells": [
  {
   "cell_type": "markdown",
   "metadata": {},
   "source": [
    "## TCP Socket Server\n",
    "\n",
    "Please google \"berkeley socket programming\" first. You can find a diagram that describes how to use socket. For a server, it includes the following steps. We will explain them one by one.\n",
    "\n",
    "* socket\n",
    "* bind\n",
    "* listen\n",
    "* accept\n",
    "* recv, sned (may repeat multiple times)\n",
    "* close socket"
   ]
  },
  {
   "cell_type": "code",
   "execution_count": 1,
   "metadata": {},
   "outputs": [],
   "source": [
    "# import the socket library provided by Python\n",
    "# theoretically, you can only use the socket library to create an Internet server/client\n",
    "# however, the socket library is a low-level library\n",
    "# it may not easy to use socket library only to create complicated network-based apps\n",
    "\n",
    "# if you are interested in all functions provided by Python, see this\n",
    "# https://docs.python.org/3.7/library/socket.html\n",
    "\n",
    "import socket"
   ]
  },
  {
   "cell_type": "code",
   "execution_count": 2,
   "metadata": {},
   "outputs": [],
   "source": [
    "# As a server, we would like to serve multiple clients\n",
    "# so we use one thread to serve one client\n",
    "# threading is a python library that can spawn multiple threads in a single app (process)\n",
    "\n",
    "import threading"
   ]
  },
  {
   "cell_type": "markdown",
   "metadata": {},
   "source": [
    "### socket"
   ]
  },
  {
   "cell_type": "code",
   "execution_count": 3,
   "metadata": {},
   "outputs": [],
   "source": [
    "# create socket instance\n",
    "# socket.AF_INET is a constant value that indicates I want to use IP (Internet Protocol) as my L3 protocol\n",
    "# socket.SOCK_STREAM is a constant value that indicates I want to use TCP as my L4 protocol\n",
    "\n",
    "s = socket.socket(socket.AF_INET, socket.SOCK_STREAM)"
   ]
  },
  {
   "cell_type": "markdown",
   "metadata": {},
   "source": [
    "### bind"
   ]
  },
  {
   "cell_type": "code",
   "execution_count": 4,
   "metadata": {},
   "outputs": [],
   "source": [
    "# ask the OS to bind the created socket to user-specified parameters: (IP, TCP port)\n",
    "# the 1st parameter is the binded IP, the 2nd parameter is the binded port number\n",
    "# So that when the OS receives a datagram, the OS knows how to demux the datagram to the corresponding application \n",
    "\n",
    "pars = ('127.0.0.1', 999) # you can change the server port to whatever you want\n",
    "s.bind(pars)"
   ]
  },
  {
   "cell_type": "markdown",
   "metadata": {},
   "source": [
    "### listen"
   ]
  },
  {
   "cell_type": "code",
   "execution_count": 5,
   "metadata": {},
   "outputs": [],
   "source": [
    "# become a server socket\n",
    "# it makes this python program waiting for receiving message\n",
    "# listen() function has one parameter that limits how many clients can be connected to this server\n",
    "# we set it to 5 without any reason\n",
    "# you can change it to any number you want, as long as you have sufficient resources (computing, memory)\n",
    "\n",
    "s.listen(5)"
   ]
  },
  {
   "cell_type": "markdown",
   "metadata": {},
   "source": [
    "### recv, send and close function\n",
    "Note: it is a function declaration. This function will be called after 'accept'"
   ]
  },
  {
   "cell_type": "code",
   "execution_count": 6,
   "metadata": {},
   "outputs": [],
   "source": [
    "# a new thread is created for every new accepted client\n",
    "# every new thread starts from the function below\n",
    "\n",
    "def serveClient(clientsocket, address):\n",
    "    \n",
    "    # we need a loop to continuously receive messages from the client\n",
    "    while True:\n",
    "        # then receive at most 1024 bytes message and store these bytes in a variable named 'data'\n",
    "        # you can set the buffer size to any value you like\n",
    "        data = clientsocket.recv(1024)\n",
    "        print(\"from client\", data)\n",
    "        \n",
    "        # if the received data is not empty, then we send something back by using send() function\n",
    "        if data:\n",
    "            clientsocket.send(b'response')\n",
    "        \n",
    "        # we need some condition to terminate the socket\n",
    "        # lets see if the client sends some termination message to the server\n",
    "        # if so, then the server close the socket \n",
    "        if data == b'close':\n",
    "            clientsocket.close()\n",
    "            break"
   ]
  },
  {
   "cell_type": "markdown",
   "metadata": {},
   "source": [
    "### accept"
   ]
  },
  {
   "cell_type": "code",
   "execution_count": null,
   "metadata": {},
   "outputs": [
    {
     "name": "stdout",
     "output_type": "stream",
     "text": [
      "from client b'request'\n",
      "from client b'close'\n"
     ]
    }
   ],
   "source": [
    "# since at most we can serve many clients (5 in this example), we need a way to distinguish them \n",
    "# as mentioned in the class, TCP use 4-tuple (src IP, dst IP, src port, dst port) to distinguish a socket\n",
    "# we use accept() function to confirm that we connect to the client socket\n",
    "# and accept() function will return the client's socket instance and IP\n",
    "# we need a loop to keep accepting new clients (until 5 clients are accepted)\n",
    "\n",
    "while True:\n",
    "    # accept a new client and get it's information\n",
    "    (clientsocket, address) = s.accept()\n",
    "    \n",
    "    # create a new thread to serve this new client\n",
    "    # after the thread is created, it will start to execute 'target' function with arguments 'args' \n",
    "    threading.Thread(target = serveClient, args = (clientsocket, address)).start()"
   ]
  }
 ],
 "metadata": {
  "kernelspec": {
   "display_name": "Python 3",
   "language": "python",
   "name": "python3"
  },
  "language_info": {
   "codemirror_mode": {
    "name": "ipython",
    "version": 3
   },
   "file_extension": ".py",
   "mimetype": "text/x-python",
   "name": "python",
   "nbconvert_exporter": "python",
   "pygments_lexer": "ipython3",
   "version": "3.7.0"
  }
 },
 "nbformat": 4,
 "nbformat_minor": 2
}
