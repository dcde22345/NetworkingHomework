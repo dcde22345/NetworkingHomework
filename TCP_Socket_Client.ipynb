{
 "cells": [
  {
   "cell_type": "markdown",
   "metadata": {},
   "source": [
    "## TCP Socket Client\n",
    "\n",
    "Please google \"berkeley socket programming\" first. You can find a diagram that describes how to use socket. For a client, it includes the following steps. We will explain them one by one.\n",
    "\n",
    "* socket\n",
    "* connect\n",
    "* recv, sned (may repeat multiple times)\n",
    "* close socket"
   ]
  },
  {
   "cell_type": "code",
   "execution_count": 16,
   "metadata": {},
   "outputs": [],
   "source": [
    "import socket\n",
    "import threading"
   ]
  },
  {
   "cell_type": "code",
   "execution_count": 17,
   "metadata": {},
   "outputs": [],
   "source": [
    "s = socket.socket(socket.AF_INET, socket.SOCK_STREAM)"
   ]
  },
  {
   "cell_type": "code",
   "execution_count": 18,
   "metadata": {},
   "outputs": [],
   "source": [
    "pars = ('127.0.0.1', 8888) # server IP and server port\n",
    "s.connect(pars)"
   ]
  },
  {
   "cell_type": "code",
   "execution_count": 26,
   "metadata": {},
   "outputs": [
    {
     "name": "stdout",
     "output_type": "stream",
     "text": [
      "new connection\n",
      "data from server: b'response'\n",
      "data from server: b'response'\n",
      "data from server: b'close'\n",
      "new connection\n",
      "data from server: b'response'\n",
      "data from server: b'response'\n",
      "data from server: b'close'\n",
      "new connection\n",
      "data from server: b'response'\n",
      "data from server: b'response'\n",
      "data from server: b'close'\n",
      "new connection\n",
      "data from server: b'response'\n",
      "data from server: b'response'\n",
      "data from server: b'close'\n",
      "new connection\n"
     ]
    }
   ],
   "source": [
    "print('new connection')\n",
    "s = socket.socket(socket.AF_INET, socket.SOCK_STREAM)\n",
    "s.connect(pars)\n",
    "\n",
    "while True:\n",
    "    \n",
    "    for i in range(12):\n",
    "        # let the client talk firt\n",
    "        s.send(b'request')\n",
    "        \n",
    "        # then wait for server response\n",
    "        data = s.recv(1024)\n",
    "        if not data:\n",
    "            break\n",
    "            \n",
    "        print(\"data from server:\", data)\n",
    "\n",
    "        # 如果需要re-connection則關掉再重新連接\n",
    "        if data == b\"close\":\n",
    "            s.send(b'close')\n",
    "            s.close()\n",
    "\n",
    "            # 新連線\n",
    "            print('new connection')\n",
    "            s = socket.socket(socket.AF_INET, socket.SOCK_STREAM)\n",
    "            s.connect(pars)\n",
    "\n",
    "    # terminate\n",
    "    s.send(b'close')\n",
    "    break\n",
    "    \n",
    "# close directly\n",
    "s.close()"
   ]
  },
  {
   "cell_type": "code",
   "execution_count": null,
   "metadata": {},
   "outputs": [],
   "source": []
  }
 ],
 "metadata": {
  "kernelspec": {
   "display_name": "base",
   "language": "python",
   "name": "python3"
  },
  "language_info": {
   "codemirror_mode": {
    "name": "ipython",
    "version": 3
   },
   "file_extension": ".py",
   "mimetype": "text/x-python",
   "name": "python",
   "nbconvert_exporter": "python",
   "pygments_lexer": "ipython3",
   "version": "3.12.4"
  }
 },
 "nbformat": 4,
 "nbformat_minor": 2
}
